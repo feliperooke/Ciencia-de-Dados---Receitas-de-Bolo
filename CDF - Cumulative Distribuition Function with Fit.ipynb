{
 "cells": [
  {
   "cell_type": "markdown",
   "metadata": {},
   "source": [
    "<b style=\"font-size: 24px\"> How to plot a CDF in Python? </b><br>\n",
    "<b style=\"font-size: 20px\"> Como plotar uma CDF em Python?</b><br>\n",
    "<br>\n",
    "Easy! Follow this short steps to plot a CDF from empirical data.<br>\n",
    "Facil! Siga estes passos curtos para plotar uma CDF de dados empíricos."
   ]
  },
  {
   "cell_type": "markdown",
   "metadata": {},
   "source": [
    "<b style=\"font-size: 20px\"> Import your data </b><br>\n",
    "<b style=\"font-size: 16px\"> Importe seus dados</b>"
   ]
  },
  {
   "cell_type": "code",
   "execution_count": null,
   "metadata": {},
   "outputs": [],
   "source": [
    "%matplotlib inline\n",
    "import pandas as pd\n",
    "import numpy as np\n",
    "import matplotlib.pyplot as plt\n",
    "\n",
    "\n",
    "df = pd.read_csv(\"amostras.csv\", header=None, names=['colum1'])"
   ]
  },
  {
   "cell_type": "markdown",
   "metadata": {},
   "source": [
    "<b style=\"font-size: 20px\"> Define X axis</b><br>\n",
    "<b style=\"font-size: 16px\"> Defina o eixo X</b>"
   ]
  },
  {
   "cell_type": "code",
   "execution_count": null,
   "metadata": {},
   "outputs": [],
   "source": [
    "x = df.sort_values(by='colum1')['colum1'].values"
   ]
  },
  {
   "cell_type": "markdown",
   "metadata": {},
   "source": [
    "<b style=\"font-size: 20px\"> Follow the CookBook</b><br>\n",
    "<b style=\"font-size: 16px\"> Siga o Livro de Receitas</b>"
   ]
  },
  {
   "cell_type": "code",
   "execution_count": null,
   "metadata": {},
   "outputs": [],
   "source": [
    "###################################\n",
    "###  Receita de Bolo para ECDFs  ##\n",
    "###  CookBook from ECDFs         ##\n",
    "###################################\n",
    "\n",
    "#Dont touch in Y \n",
    "#Nao mexa no Y\n",
    "y = np.arange(1.0, len(x)+1) / len(x)\n",
    "\n",
    "#Ingrediente 2 - Customize suas linhas\n",
    "#Ingredient 2 - Custom your lines\n",
    "plt.plot(x, y, marker='.', linestyle='none')\n",
    "\n",
    "#Ingredient 3 - Define your label axis\n",
    "#Ingrediente 3 - Defina os rotulos dos eixos\n",
    "plt.xlabel(\"Duracao em Horas\")\n",
    "plt.ylabel(\"ECDF\")\n",
    "plt.margins(0.02)\n",
    "\n",
    "#Ingredient 5 - Define your pattern from x(or y) axis\n",
    "#Ingrediente 5 - Defina o padrao dos numeros eixo x(ou y)\n",
    "def major_formatter(a, pos):\n",
    "    return \"%.fh\" % (a/60/60)\n",
    "\n",
    "ax = plt.axes()\n",
    "\n",
    "#Ingredient 6 - Define how many elements show in y axis\n",
    "#Ingrediente 6 - Defina Quantos elementos aparecerao no eixo y\n",
    "ax.yaxis.set_major_locator(plt.MaxNLocator(9))\n",
    "\n",
    "#Ingredient 7 - Define how many elements show in x axis\n",
    "#Ingrediente 7 - Defina Quantos elementos aparecerao no eixo x\n",
    "ax.xaxis.set_major_locator(plt.MaxNLocator(11))\n",
    "\n",
    "#Ingredient 8 - Add the Ingredient 5 in x axis\n",
    "#Ingrediente 8 - Adiciona o Ingrediente 5 no eixo x\n",
    "ax.xaxis.set_major_formatter(plt.FuncFormatter(major_formatter))\n",
    "\n",
    "#Plot\n",
    "plt.legend()"
   ]
  }
 ],
 "metadata": {
  "kernelspec": {
   "display_name": "Python 2",
   "language": "python",
   "name": "python2"
  },
  "language_info": {
   "codemirror_mode": {
    "name": "ipython",
    "version": 2
   },
   "file_extension": ".py",
   "mimetype": "text/x-python",
   "name": "python",
   "nbconvert_exporter": "python",
   "pygments_lexer": "ipython2",
   "version": "2.7.14"
  }
 },
 "nbformat": 4,
 "nbformat_minor": 2
}
