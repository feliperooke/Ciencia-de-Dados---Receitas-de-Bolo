{
 "cells": [
  {
   "cell_type": "code",
   "execution_count": 18,
   "metadata": {},
   "outputs": [],
   "source": [
    "import os\n",
    "%matplotlib inline\n",
    "import pandas as pd\n",
    "import numpy as np\n",
    "import matplotlib.pyplot as plt"
   ]
  },
  {
   "cell_type": "code",
   "execution_count": 19,
   "metadata": {},
   "outputs": [],
   "source": [
    "df = pd.read_csv(\"dados/dados_to_fit.csv\", header=None, names=['colum1'])\n",
    "x = df.sort_values(by='colum1')['colum1'].values"
   ]
  },
  {
   "cell_type": "code",
   "execution_count": 20,
   "metadata": {},
   "outputs": [],
   "source": [
    "with open(\"dados/dados_to_fit_amostragem.csv\", \"a\") as f:\n",
    "    for idx, val in enumerate(x):\n",
    "        if (idx%1000 == 0):\n",
    "            f.write(str(val)+\"\\n\")"
   ]
  },
  {
   "cell_type": "code",
   "execution_count": 17,
   "metadata": {},
   "outputs": [
    {
     "data": {
      "text/plain": [
       "<matplotlib.legend.Legend at 0x7fb008201f90>"
      ]
     },
     "execution_count": 17,
     "metadata": {},
     "output_type": "execute_result"
    },
    {
     "data": {
      "image/png": "[encoded data removed]",
      "text/plain": [
       "<matplotlib.figure.Figure at 0x7fb010bd4ad0>"
      ]
     },
     "metadata": {},
     "output_type": "display_data"
    }
   ],
   "source": [
    "###################################\n",
    "###  Receita de Bolo para ECDFs  ##\n",
    "###  CookBook from ECDFs         ##\n",
    "###################################\n",
    "\n",
    "#Dont touch in Y \n",
    "#Nao mexa no Y\n",
    "y = np.arange(1.0, len(x)+1) / len(x)\n",
    "\n",
    "#Ingrediente 2 - Customize suas linhas\n",
    "#Ingredient 2 - Custom your lines\n",
    "plt.semilogx(x, y, marker='.', linestyle='none')\n",
    "\n",
    "#Ingredient 3 - Define your label axis\n",
    "#Ingrediente 3 - Defina os rotulos dos eixos\n",
    "plt.xlabel(\"Duracao em Horas\")\n",
    "plt.ylabel(\"ECDF\")\n",
    "plt.margins(0.02)\n",
    "\n",
    "#Ingredient 5 - Define your pattern from x(or y) axis\n",
    "#Ingrediente 5 - Defina o padrao dos numeros eixo x(ou y)\n",
    "def major_formatter(a, pos):\n",
    "    return \"%.fh\" % (a/60/60)\n",
    "\n",
    "ax = plt.axes()\n",
    "\n",
    "#Ingredient 6 - Define how many elements show in y axis\n",
    "#Ingrediente 6 - Defina Quantos elementos aparecerao no eixo y\n",
    "ax.yaxis.set_major_locator(plt.MaxNLocator(9))\n",
    "\n",
    "#Ingredient 7 - Define how many elements show in x axis\n",
    "#Ingrediente 7 - Defina Quantos elementos aparecerao no eixo x\n",
    "ax.xaxis.set_major_locator(plt.MaxNLocator(11))\n",
    "\n",
    "#Ingredient 8 - Add the Ingredient 5 in x axis\n",
    "#Ingrediente 8 - Adiciona o Ingrediente 5 no eixo x\n",
    "ax.xaxis.set_major_formatter(plt.FuncFormatter(major_formatter))\n",
    "\n",
    "#Plot\n",
    "plt.legend()"
   ]
  },
  {
   "cell_type": "code",
   "execution_count": null,
   "metadata": {},
   "outputs": [],
   "source": []
  }
 ],
 "metadata": {
  "kernelspec": {
   "display_name": "Python 2",
   "language": "python",
   "name": "python2"
  },
  "language_info": {
   "codemirror_mode": {
    "name": "ipython",
    "version": 2
   },
   "file_extension": ".py",
   "mimetype": "text/x-python",
   "name": "python",
   "nbconvert_exporter": "python",
   "pygments_lexer": "ipython2",
   "version": "2.7.14"
  }
 },
 "nbformat": 4,
 "nbformat_minor": 2
}
