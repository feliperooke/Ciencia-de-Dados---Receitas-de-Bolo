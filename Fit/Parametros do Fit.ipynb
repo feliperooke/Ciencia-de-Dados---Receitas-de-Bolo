{
 "cells": [
  {
   "cell_type": "code",
   "execution_count": 20,
   "metadata": {},
   "outputs": [],
   "source": [
    "import os\n",
    "%matplotlib inline\n",
    "import pandas as pd\n",
    "import numpy as np\n",
    "import matplotlib.pyplot as plt"
   ]
  },
  {
   "cell_type": "code",
   "execution_count": 50,
   "metadata": {},
   "outputs": [],
   "source": [
    "df = pd.read_csv(\"dados/dados_to_fit.csv\", header=None, names=['colum1'])\n",
    "x = df.sort_values(by='colum1')['colum1'].values\n",
    "\n",
    "df = pd.read_csv(\"dados/dados_to_fit_amostragem.csv\", header=None, names=['colum1'])\n",
    "x1 = df.sort_values(by='colum1')['colum1'].values"
   ]
  },
  {
   "cell_type": "code",
   "execution_count": 64,
   "metadata": {},
   "outputs": [
    {
     "data": {
      "text/plain": [
       "(26.487030370516365, 11.389321987840692)"
      ]
     },
     "execution_count": 64,
     "metadata": {},
     "output_type": "execute_result"
    }
   ],
   "source": [
    "import scipy.stats\n",
    "params = scipy.stats.cauchy.fit(x1)\n",
    "params"
   ]
  },
  {
   "cell_type": "code",
   "execution_count": null,
   "metadata": {},
   "outputs": [],
   "source": []
  },
  {
   "cell_type": "code",
   "execution_count": 65,
   "metadata": {},
   "outputs": [
    {
     "data": {
      "text/plain": [
       "[<matplotlib.lines.Line2D at 0x7f47c34dcd90>]"
      ]
     },
     "execution_count": 65,
     "metadata": {},
     "output_type": "execute_result"
    },
    {
     "data": {
      "image/png": "[encoded data removed]",
      "text/plain": [
       "<matplotlib.figure.Figure at 0x7f47c4dbd610>"
      ]
     },
     "metadata": {},
     "output_type": "display_data"
    }
   ],
   "source": [
    "f = scipy.stats.cauchy.freeze(args)\n",
    "\n",
    "# Separate parts of parameters\n",
    "arg = params[:-2]\n",
    "loc = params[-2]\n",
    "scale = params[-1]\n",
    "\n",
    "x2 = range(0, 10000)\n",
    "\n",
    "plt.semilogx(x2, scipy.stats.cauchy.cdf(x2, loc=loc, scale=scale, *arg))\n",
    "y = np.arange(1.0, len(x)+1) / len(x)\n",
    "y1 = np.arange(1.0, len(x1)+1) / len(x1)\n",
    "plt.semilogx(x, y)\n",
    "plt.semilogx(x1, y1)\n",
    "\n",
    "plt.semilogx(x2, [fcauch(item, 26.487030370516365, 11.389321987840692) for item in x2])\n",
    "#scipy.stats.foldcauchy.cdf()"
   ]
  },
  {
   "cell_type": "code",
   "execution_count": 46,
   "metadata": {},
   "outputs": [
    {
     "data": {
      "text/plain": [
       "0.90889613307659001"
      ]
     },
     "execution_count": 46,
     "metadata": {},
     "output_type": "execute_result"
    }
   ],
   "source": [
    "scipy.stats.foldcauchy.cdf(100, *args)"
   ]
  },
  {
   "cell_type": "code",
   "execution_count": 40,
   "metadata": {},
   "outputs": [],
   "source": [
    "import math\n",
    "def fcauch(x, x0, b):\n",
    "    return (1./math.pi)*math.atan((x-x0)/b)+0.5 "
   ]
  },
  {
   "cell_type": "code",
   "execution_count": null,
   "metadata": {},
   "outputs": [],
   "source": [
    "x = range(0, 10000)\n",
    "plt.semilogx(x, f.cdf(x), lw=3)"
   ]
  },
  {
   "cell_type": "code",
   "execution_count": null,
   "metadata": {},
   "outputs": [],
   "source": []
  },
  {
   "cell_type": "code",
   "execution_count": null,
   "metadata": {},
   "outputs": [],
   "source": []
  },
  {
   "cell_type": "code",
   "execution_count": null,
   "metadata": {},
   "outputs": [],
   "source": []
  },
  {
   "cell_type": "code",
   "execution_count": 17,
   "metadata": {},
   "outputs": [
    {
     "data": {
      "text/plain": [
       "<matplotlib.legend.Legend at 0x7fb008201f90>"
      ]
     },
     "execution_count": 17,
     "metadata": {},
     "output_type": "execute_result"
    },
    {
     "data": {
      "image/png": "[encoded data removed]",
      "text/plain": [
       "<matplotlib.figure.Figure at 0x7fb010bd4ad0>"
      ]
     },
     "metadata": {},
     "output_type": "display_data"
    }
   ],
   "source": [
    "###################################\n",
    "###  Receita de Bolo para ECDFs  ##\n",
    "###  CookBook from ECDFs         ##\n",
    "###################################\n",
    "\n",
    "#Dont touch in Y \n",
    "#Nao mexa no Y\n",
    "y = np.arange(1.0, len(x)+1) / len(x)\n",
    "\n",
    "#Ingrediente 2 - Customize suas linhas\n",
    "#Ingredient 2 - Custom your lines\n",
    "plt.semilogx(x, y, marker='.', linestyle='none')\n",
    "\n",
    "#Ingredient 3 - Define your label axis\n",
    "#Ingrediente 3 - Defina os rotulos dos eixos\n",
    "plt.xlabel(\"Duracao em Horas\")\n",
    "plt.ylabel(\"ECDF\")\n",
    "plt.margins(0.02)\n",
    "\n",
    "#Ingredient 5 - Define your pattern from x(or y) axis\n",
    "#Ingrediente 5 - Defina o padrao dos numeros eixo x(ou y)\n",
    "def major_formatter(a, pos):\n",
    "    return \"%.fh\" % (a/60/60)\n",
    "\n",
    "ax = plt.axes()\n",
    "\n",
    "#Ingredient 6 - Define how many elements show in y axis\n",
    "#Ingrediente 6 - Defina Quantos elementos aparecerao no eixo y\n",
    "ax.yaxis.set_major_locator(plt.MaxNLocator(9))\n",
    "\n",
    "#Ingredient 7 - Define how many elements show in x axis\n",
    "#Ingrediente 7 - Defina Quantos elementos aparecerao no eixo x\n",
    "ax.xaxis.set_major_locator(plt.MaxNLocator(11))\n",
    "\n",
    "#Ingredient 8 - Add the Ingredient 5 in x axis\n",
    "#Ingrediente 8 - Adiciona o Ingrediente 5 no eixo x\n",
    "ax.xaxis.set_major_formatter(plt.FuncFormatter(major_formatter))\n",
    "\n",
    "#Plot\n",
    "plt.legend()"
   ]
  },
  {
   "cell_type": "code",
   "execution_count": null,
   "metadata": {},
   "outputs": [],
   "source": []
  }
 ],
 "metadata": {
  "kernelspec": {
   "display_name": "Python 2",
   "language": "python",
   "name": "python2"
  },
  "language_info": {
   "codemirror_mode": {
    "name": "ipython",
    "version": 2
   },
   "file_extension": ".py",
   "mimetype": "text/x-python",
   "name": "python",
   "nbconvert_exporter": "python",
   "pygments_lexer": "ipython2",
   "version": "2.7.13"
  }
 },
 "nbformat": 4,
 "nbformat_minor": 2
}
