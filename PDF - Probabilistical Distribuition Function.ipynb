{
 "cells": [
  {
   "cell_type": "markdown",
   "metadata": {},
   "source": [
    "<b style=\"font-size: 24px\"> How to plot a PDF in Python? </b><br>\n",
    "<b style=\"font-size: 20px\"> Como plotar uma PDF em Python?</b><br>\n",
    "<br>\n",
    "Easy! Follow this short steps to plot a PDF from empirical data.<br>\n",
    "Facil! Siga estes passos curtos para plotar uma PDF de dados empíricos."
   ]
  },
  {
   "cell_type": "markdown",
   "metadata": {},
   "source": [
    "<b style=\"font-size: 20px\"> Import your data </b><br>\n",
    "<b style=\"font-size: 16px\"> Importe seus dados</b>"
   ]
  },
  {
   "cell_type": "code",
   "execution_count": null,
   "metadata": {},
   "outputs": [],
   "source": [
    "%matplotlib inline\n",
    "import pandas as pd\n",
    "import numpy as np\n",
    "import matplotlib.pyplot as plt\n",
    "\n",
    "\n",
    "df = pd.read_csv(\"amostras.csv\", header=None, names=['colum1'])"
   ]
  },
  {
   "cell_type": "markdown",
   "metadata": {},
   "source": [
    "<b style=\"font-size: 20px\"> Define X axis</b><br>\n",
    "<b style=\"font-size: 16px\"> Defina o eixo X</b>"
   ]
  },
  {
   "cell_type": "code",
   "execution_count": null,
   "metadata": {},
   "outputs": [],
   "source": [
    "x = df.sort_values(by='colum1')['colum1'].values"
   ]
  },
  {
   "cell_type": "markdown",
   "metadata": {},
   "source": [
    "<b style=\"font-size: 20px\"> Follow the CookBook</b><br>\n",
    "<b style=\"font-size: 16px\"> Siga o Livro de Receitas</b>"
   ]
  },
  {
   "cell_type": "code",
   "execution_count": null,
   "metadata": {},
   "outputs": [],
   "source": [
    "##################################\n",
    "###  Receita de Bolo para PDFs  ##\n",
    "###  CookBook from PDFs         ##\n",
    "##################################\n",
    "\n",
    "#Ingredient 2 - Define your wheight value\n",
    "#Ingrediente 2 - Defina o valor do seu peso\n",
    "#Define o peso que cada elemento tem\n",
    "#pense que voce esta empilhando os pesos para formar uma barrinha no grafico\n",
    "weights = np.ones_like(x)/float(len(x))\n",
    "\n",
    "#Ingredient 3 - Define your label axis\n",
    "#Ingrediente 3 - Defina os rotulos dos eixos\n",
    "plt.xlabel(\"Duracao em Horas\")\n",
    "plt.ylabel(\"PDF\")\n",
    "plt.margins(0.02)\n",
    "ax = plt.axes()\n",
    "\n",
    "#Ingredient 4 - Define the quantity of wheigths\n",
    "#Ingrediente 4 - Defina a quantidade de barrinhas voce quer no grafico (bins)\n",
    "ax.hist(x, weights=weights, bins=100)\n",
    "\n",
    "#Ingredient 5 - Define your pattern from x(or y) axis\n",
    "#Ingrediente 5 - Defina o padrao dos numeros eixo x(ou y)\n",
    "def major_formatter(a, pos):\n",
    "    return \"%.fh\" % (a/60/60)\n",
    "\n",
    "#Ingredient 6 - Define how many elements show in y axis\n",
    "#Ingrediente 6 - Defina Quantos elementos aparecerao no eixo y\n",
    "ax.yaxis.set_major_locator(plt.MaxNLocator(9))\n",
    "\n",
    "#Ingredient 7 - Define how many elements show in x axis\n",
    "#Ingrediente 7 - Defina Quantos elementos aparecerao no eixo x\n",
    "ax.xaxis.set_major_locator(plt.MaxNLocator(11))\n",
    "\n",
    "#Ingredient 8 - Add the Ingredient 5 in x axis\n",
    "#Ingrediente 8 - Adiciona o Ingrediente 5 no eixo x\n",
    "ax.xaxis.set_major_formatter(plt.FuncFormatter(major_formatter))"
   ]
  },
  {
   "cell_type": "markdown",
   "metadata": {},
   "source": [
    "<b style=\"font-size: 20px\"> Make Beautful PDFs</b><br>\n",
    "<b style=\"font-size: 16px\"> Fazendo PDFs bonitas</b>"
   ]
  },
  {
   "cell_type": "code",
   "execution_count": null,
   "metadata": {},
   "outputs": [],
   "source": [
    "#########################################\n",
    "###  Receita de Bolo para PDFs bonitas ##\n",
    "###  CookBook from beautful PDFs       ##\n",
    "#########################################\n",
    "\n",
    "#After the cookbook - Understand the recipe from PDFs\n",
    "#Antes da Receita - Entenda a Receita de Bolo para PDFs\n",
    "\n",
    "hist, bins = np.histogram(x, weights=weights, bins=100)\n",
    "bin_centers = (bins[1:]+bins[:-1])*0.5\n",
    "plt.xlabel(\"Duracao em Horas\")\n",
    "plt.ylabel(\"PDF\")\n",
    "plt.margins(0.02)\n",
    "ax = plt.axes()\n",
    "ax.plot(bin_centers, hist)\n",
    "\n",
    "def major_formatter(a, pos):\n",
    "    return \"%.fh\" % (a/60/60)\n",
    "\n",
    "ax.yaxis.set_major_locator(plt.MaxNLocator(9))\n",
    "ax.xaxis.set_major_locator(plt.MaxNLocator(11))\n",
    "ax.xaxis.set_major_formatter(plt.FuncFormatter(major_formatter))"
   ]
  },
  {
   "cell_type": "markdown",
   "metadata": {},
   "source": [
    "<b style=\"font-size: 20px\"> PDF with Zoom</b><br>\n",
    "<b style=\"font-size: 16px\"> PDF com Zoom</b>"
   ]
  },
  {
   "cell_type": "code",
   "execution_count": null,
   "metadata": {},
   "outputs": [],
   "source": [
    "##################################\n",
    "###  Receita de Bolo para PDFs  ##\n",
    "###  CookBook from PDFs         ##\n",
    "##################################\n",
    "\n",
    "#Ingredient 2 - Define your wheight value\n",
    "#Ingrediente 2 - Defina o valor do seu peso\n",
    "#Define o peso que cada elemento tem\n",
    "#pense que voce esta empilhando os pesos para formar uma barrinha no grafico\n",
    "weights = np.ones_like(x)/float(len(x))\n",
    "\n",
    "#Ingredient 3 - Define your label axis\n",
    "#Ingrediente 3 - Defina os rotulos dos eixos\n",
    "plt.xlabel(\"Duracao em Horas\")\n",
    "plt.ylabel(\"PDF\")\n",
    "plt.margins(0.02)\n",
    "ax = plt.axes()\n",
    "\n",
    "#Ingredient 4 - Define the quantity of wheigths\n",
    "#Ingrediente 4 - Defina a quantidade de barrinhas voce quer no grafico (bins)\n",
    "ax.hist(x, weights=weights, bins=100)\n",
    "\n",
    "#Ingredient 5 - Define your pattern from x(or y) axis\n",
    "#Ingrediente 5 - Defina o padrao dos numeros eixo x(ou y)\n",
    "def major_formatter(a, pos):\n",
    "    return \"%.fh\" % (a/60/60)\n",
    "\n",
    "#Ingredient 6 - Define how many elements show in y axis\n",
    "#Ingrediente 6 - Defina Quantos elementos aparecerao no eixo y\n",
    "ax.yaxis.set_major_locator(plt.MaxNLocator(9))\n",
    "\n",
    "#Ingredient 7 - Define how many elements show in x axis\n",
    "#Ingrediente 7 - Defina Quantos elementos aparecerao no eixo x\n",
    "ax.xaxis.set_major_locator(plt.MaxNLocator(11))\n",
    "\n",
    "#Ingredient 8 - Add the Ingredient 5 in x axis\n",
    "#Ingrediente 8 - Adiciona o Ingrediente 5 no eixo x\n",
    "ax.xaxis.set_major_formatter(plt.FuncFormatter(major_formatter))\n",
    "\n",
    "####################################################\n",
    "###  Receita para dar um Zoom no recheio do Bolo  ##\n",
    "###  Recipe to make zoom inside the cake          ##\n",
    "####################################################\n",
    "\n",
    "#Ingredient 1 - Select the range from zoom in x\n",
    "#Ingrediente 1 - Seleciona o intervalo do zoom no x\n",
    "x1 = 0.0\n",
    "x2 = 6*1024*1024\n",
    "\n",
    "#Ingredient 2 - Select the range from zoom in y\n",
    "#Ingrediente 2 - Seleciona o intervalo do zoom no y\n",
    "y1 = 0.0\n",
    "y2 = 0.15\n",
    "\n",
    "#Ingredient 3 - Define zoom (parameter 2) and define the location (loc):\n",
    "#Ingrediente 3 - Defina o tamanho do zoom na plotagem (parametro 2) e defina a localizacao do zoom (loc):\n",
    "axins = zoomed_inset_axes(ax, 2, loc=1) # zoom = 3\n",
    "\n",
    "#Ingrediente 4 - Add the Ingredient 4 from cookbook\n",
    "#Ingrediente 4 - Adicione o Ingrediente 4 da Receita de Bolo\n",
    "axins.plt.hist(x, weights=weights, bins=100)\n",
    "\n",
    "axins.set_xlim(x1, x2)\n",
    "axins.set_ylim(y1, y2)\n",
    "\n",
    "#Ingredient 5 - Define how many elements show in x axis from zoom\n",
    "#Ingrediente 5 - Defina Quantos elementos aparecerao no eixo x do zoom\n",
    "axins.xaxis.set_major_locator(plt.MaxNLocator(4))\n",
    "\n",
    "#Ingredient 6 - Define how many elements show in y axis from zoom\n",
    "#Ingrediente 6 - Defina Quantos elementos aparecerao no eixo y do zoom\n",
    "axins.yaxis.set_major_locator(plt.MaxNLocator(5))\n",
    "\n",
    "axins.xaxis.set_major_formatter(plt.FuncFormatter(major_formatter))\n",
    "\n",
    "#plt.yticks(visible=False)\n",
    "\n",
    "#Ingredient 7 - Define the location 1 and 2 from zoom lines\n",
    "#Ingrediente 7 - Defina a localizacao 1 e 2 das linhas do zoom\n",
    "mark_inset(ax, axins, loc1=2, loc2=4, fc=\"none\", ec=\"0.8\")\n",
    "plt.draw()\n",
    "plt.show()"
   ]
  }
 ],
 "metadata": {
  "kernelspec": {
   "display_name": "Python 2",
   "language": "python",
   "name": "python2"
  },
  "language_info": {
   "codemirror_mode": {
    "name": "ipython",
    "version": 2
   },
   "file_extension": ".py",
   "mimetype": "text/x-python",
   "name": "python",
   "nbconvert_exporter": "python",
   "pygments_lexer": "ipython2",
   "version": "2.7.14"
  }
 },
 "nbformat": 4,
 "nbformat_minor": 2
}
